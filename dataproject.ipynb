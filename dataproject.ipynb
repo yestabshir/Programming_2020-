{
 "cells": [
  {
   "cell_type": "markdown",
   "metadata": {},
   "source": [
    "# How does unemployment rate of different genders change from 1990 and how it relates to the GDP per capita"
   ]
  },
  {
   "cell_type": "markdown",
   "metadata": {},
   "source": [
    "Imports and set magics:"
   ]
  },
  {
   "cell_type": "code",
   "execution_count": 1,
   "metadata": {},
   "outputs": [],
   "source": [
    "import numpy as np\n",
    "import datetime\n",
    "import pandas as pd\n",
    "import matplotlib.pyplot as plt\n",
    "import ipywidgets as widgets\n",
    "from matplotlib_venn import venn2 \n",
    "import pandas_datareader  \n",
    "import matplotlib.pyplot as plt\n",
    "plt.style.use('seaborn-whitegrid')\n",
    "\n",
    "%load_ext autoreload\n",
    "%autoreload 2"
   ]
  },
  {
   "cell_type": "markdown",
   "metadata": {
    "toc-hr-collapsed": true
   },
   "source": [
    "# Fetch, merge and data processing"
   ]
  },
  {
   "cell_type": "markdown",
   "metadata": {},
   "source": [
    "I first fetch the GDP data include GDP in purchasing power pariety and GDP growth rate from world bank database website by using API, also fetch unemployment rates for both male and female in those countries and merge 2 data sets together"
   ]
  },
  {
   "cell_type": "code",
   "execution_count": 2,
   "metadata": {},
   "outputs": [],
   "source": [
    "from pandas_datareader import wb"
   ]
  },
  {
   "cell_type": "code",
   "execution_count": 3,
   "metadata": {},
   "outputs": [
    {
     "data": {
      "text/html": [
       "<div>\n",
       "<style scoped>\n",
       "    .dataframe tbody tr th:only-of-type {\n",
       "        vertical-align: middle;\n",
       "    }\n",
       "\n",
       "    .dataframe tbody tr th {\n",
       "        vertical-align: top;\n",
       "    }\n",
       "\n",
       "    .dataframe thead th {\n",
       "        text-align: right;\n",
       "    }\n",
       "</style>\n",
       "<table border=\"1\" class=\"dataframe\">\n",
       "  <thead>\n",
       "    <tr style=\"text-align: right;\">\n",
       "      <th></th>\n",
       "      <th>country</th>\n",
       "      <th>year</th>\n",
       "      <th>GDP_per_capita</th>\n",
       "      <th>GDP_growth</th>\n",
       "    </tr>\n",
       "  </thead>\n",
       "  <tbody>\n",
       "    <tr>\n",
       "      <th>0</th>\n",
       "      <td>China</td>\n",
       "      <td>2018</td>\n",
       "      <td>9770.847088</td>\n",
       "      <td>6.566974</td>\n",
       "    </tr>\n",
       "    <tr>\n",
       "      <th>1</th>\n",
       "      <td>China</td>\n",
       "      <td>2017</td>\n",
       "      <td>8759.041578</td>\n",
       "      <td>6.757008</td>\n",
       "    </tr>\n",
       "    <tr>\n",
       "      <th>2</th>\n",
       "      <td>China</td>\n",
       "      <td>2016</td>\n",
       "      <td>8078.790474</td>\n",
       "      <td>6.736675</td>\n",
       "    </tr>\n",
       "    <tr>\n",
       "      <th>3</th>\n",
       "      <td>China</td>\n",
       "      <td>2015</td>\n",
       "      <td>8033.388043</td>\n",
       "      <td>6.905317</td>\n",
       "    </tr>\n",
       "    <tr>\n",
       "      <th>4</th>\n",
       "      <td>China</td>\n",
       "      <td>2014</td>\n",
       "      <td>7651.366044</td>\n",
       "      <td>7.299519</td>\n",
       "    </tr>\n",
       "    <tr>\n",
       "      <th>5</th>\n",
       "      <td>China</td>\n",
       "      <td>2013</td>\n",
       "      <td>7050.645920</td>\n",
       "      <td>7.768615</td>\n",
       "    </tr>\n",
       "    <tr>\n",
       "      <th>6</th>\n",
       "      <td>China</td>\n",
       "      <td>2012</td>\n",
       "      <td>6316.918863</td>\n",
       "      <td>7.859627</td>\n",
       "    </tr>\n",
       "    <tr>\n",
       "      <th>7</th>\n",
       "      <td>China</td>\n",
       "      <td>2011</td>\n",
       "      <td>5618.132491</td>\n",
       "      <td>9.550914</td>\n",
       "    </tr>\n",
       "    <tr>\n",
       "      <th>8</th>\n",
       "      <td>China</td>\n",
       "      <td>2010</td>\n",
       "      <td>4550.453596</td>\n",
       "      <td>10.636140</td>\n",
       "    </tr>\n",
       "    <tr>\n",
       "      <th>9</th>\n",
       "      <td>China</td>\n",
       "      <td>2009</td>\n",
       "      <td>3832.235952</td>\n",
       "      <td>9.399813</td>\n",
       "    </tr>\n",
       "  </tbody>\n",
       "</table>\n",
       "</div>"
      ],
      "text/plain": [
       "  country  year  GDP_per_capita  GDP_growth\n",
       "0   China  2018     9770.847088    6.566974\n",
       "1   China  2017     8759.041578    6.757008\n",
       "2   China  2016     8078.790474    6.736675\n",
       "3   China  2015     8033.388043    6.905317\n",
       "4   China  2014     7651.366044    7.299519\n",
       "5   China  2013     7050.645920    7.768615\n",
       "6   China  2012     6316.918863    7.859627\n",
       "7   China  2011     5618.132491    9.550914\n",
       "8   China  2010     4550.453596   10.636140\n",
       "9   China  2009     3832.235952    9.399813"
      ]
     },
     "execution_count": 3,
     "metadata": {},
     "output_type": "execute_result"
    }
   ],
   "source": [
    "# fetch gdp data of asian economics from 1990 to 2018\n",
    "countries = ['CN','TH','MY','JP','KR','SG','VN','IN','ID','PH']\n",
    "indicators = {'NY.GDP.MKTP.KD.ZG','NY.GDP.PCAP.CD'}\n",
    "gdp = wb.download(indicator = indicators, country= countries, start=1990, end=2018)\n",
    "gdp = gdp.rename(columns = {'NY.GDP.PCAP.CD':'GDP_per_capita','NY.GDP.MKTP.KD.ZG':'GDP_growth'})\n",
    "gdp = gdp.reset_index()\n",
    "gdp.head(10)"
   ]
  },
  {
   "cell_type": "markdown",
   "metadata": {},
   "source": [
    "convert year to make it an integer"
   ]
  },
  {
   "cell_type": "code",
   "execution_count": 4,
   "metadata": {},
   "outputs": [
    {
     "name": "stdout",
     "output_type": "stream",
     "text": [
      "<class 'pandas.core.frame.DataFrame'>\n",
      "RangeIndex: 290 entries, 0 to 289\n",
      "Data columns (total 4 columns):\n",
      "country           290 non-null object\n",
      "year              290 non-null int64\n",
      "GDP_per_capita    290 non-null float64\n",
      "GDP_growth        290 non-null float64\n",
      "dtypes: float64(2), int64(1), object(1)\n",
      "memory usage: 9.1+ KB\n"
     ]
    }
   ],
   "source": [
    "gdp.year = gdp.year.astype(int)\n",
    "gdp.info()"
   ]
  },
  {
   "cell_type": "markdown",
   "metadata": {},
   "source": [
    "Fetch **unemployment rate** in those countries for both male and famale and set dataset name as un"
   ]
  },
  {
   "cell_type": "code",
   "execution_count": 5,
   "metadata": {},
   "outputs": [
    {
     "data": {
      "text/html": [
       "<div>\n",
       "<style scoped>\n",
       "    .dataframe tbody tr th:only-of-type {\n",
       "        vertical-align: middle;\n",
       "    }\n",
       "\n",
       "    .dataframe tbody tr th {\n",
       "        vertical-align: top;\n",
       "    }\n",
       "\n",
       "    .dataframe thead th {\n",
       "        text-align: right;\n",
       "    }\n",
       "</style>\n",
       "<table border=\"1\" class=\"dataframe\">\n",
       "  <thead>\n",
       "    <tr style=\"text-align: right;\">\n",
       "      <th></th>\n",
       "      <th>country</th>\n",
       "      <th>year</th>\n",
       "      <th>female_unemployment</th>\n",
       "      <th>male_unemployment</th>\n",
       "    </tr>\n",
       "  </thead>\n",
       "  <tbody>\n",
       "    <tr>\n",
       "      <th>0</th>\n",
       "      <td>China</td>\n",
       "      <td>2018</td>\n",
       "      <td>3.703</td>\n",
       "      <td>4.722</td>\n",
       "    </tr>\n",
       "    <tr>\n",
       "      <th>1</th>\n",
       "      <td>China</td>\n",
       "      <td>2017</td>\n",
       "      <td>3.847</td>\n",
       "      <td>4.905</td>\n",
       "    </tr>\n",
       "    <tr>\n",
       "      <th>2</th>\n",
       "      <td>China</td>\n",
       "      <td>2016</td>\n",
       "      <td>3.929</td>\n",
       "      <td>5.010</td>\n",
       "    </tr>\n",
       "    <tr>\n",
       "      <th>3</th>\n",
       "      <td>China</td>\n",
       "      <td>2015</td>\n",
       "      <td>4.012</td>\n",
       "      <td>5.115</td>\n",
       "    </tr>\n",
       "    <tr>\n",
       "      <th>4</th>\n",
       "      <td>China</td>\n",
       "      <td>2014</td>\n",
       "      <td>3.994</td>\n",
       "      <td>5.093</td>\n",
       "    </tr>\n",
       "    <tr>\n",
       "      <th>5</th>\n",
       "      <td>China</td>\n",
       "      <td>2013</td>\n",
       "      <td>3.978</td>\n",
       "      <td>5.072</td>\n",
       "    </tr>\n",
       "    <tr>\n",
       "      <th>6</th>\n",
       "      <td>China</td>\n",
       "      <td>2012</td>\n",
       "      <td>3.960</td>\n",
       "      <td>5.049</td>\n",
       "    </tr>\n",
       "    <tr>\n",
       "      <th>7</th>\n",
       "      <td>China</td>\n",
       "      <td>2011</td>\n",
       "      <td>3.942</td>\n",
       "      <td>5.026</td>\n",
       "    </tr>\n",
       "    <tr>\n",
       "      <th>8</th>\n",
       "      <td>China</td>\n",
       "      <td>2010</td>\n",
       "      <td>3.923</td>\n",
       "      <td>5.002</td>\n",
       "    </tr>\n",
       "    <tr>\n",
       "      <th>9</th>\n",
       "      <td>China</td>\n",
       "      <td>2009</td>\n",
       "      <td>4.092</td>\n",
       "      <td>5.218</td>\n",
       "    </tr>\n",
       "  </tbody>\n",
       "</table>\n",
       "</div>"
      ],
      "text/plain": [
       "  country  year  female_unemployment  male_unemployment\n",
       "0   China  2018                3.703              4.722\n",
       "1   China  2017                3.847              4.905\n",
       "2   China  2016                3.929              5.010\n",
       "3   China  2015                4.012              5.115\n",
       "4   China  2014                3.994              5.093\n",
       "5   China  2013                3.978              5.072\n",
       "6   China  2012                3.960              5.049\n",
       "7   China  2011                3.942              5.026\n",
       "8   China  2010                3.923              5.002\n",
       "9   China  2009                4.092              5.218"
      ]
     },
     "execution_count": 5,
     "metadata": {},
     "output_type": "execute_result"
    }
   ],
   "source": [
    "countries = ['CN','TH','MY','JP','KR','SG','VN','IN','ID','PH']\n",
    "indicators = {'SL.UEM.TOTL.MA.ZS','SL.UEM.TOTL.FE.ZS'}\n",
    "un = wb.download(indicator = indicators, country=countries, start=1990, end=2018)\n",
    "un = un.rename(columns = {'SL.UEM.TOTL.MA.ZS':'male_unemployment','SL.UEM.TOTL.FE.ZS':'female_unemployment'})\n",
    "un = un.reset_index()\n",
    "un.year = un.year.astype(int)\n",
    "un.head(10)"
   ]
  },
  {
   "cell_type": "markdown",
   "metadata": {},
   "source": [
    "**Merge 2 data sets**:"
   ]
  },
  {
   "cell_type": "code",
   "execution_count": 6,
   "metadata": {},
   "outputs": [
    {
     "data": {
      "text/html": [
       "<div>\n",
       "<style scoped>\n",
       "    .dataframe tbody tr th:only-of-type {\n",
       "        vertical-align: middle;\n",
       "    }\n",
       "\n",
       "    .dataframe tbody tr th {\n",
       "        vertical-align: top;\n",
       "    }\n",
       "\n",
       "    .dataframe thead th {\n",
       "        text-align: right;\n",
       "    }\n",
       "</style>\n",
       "<table border=\"1\" class=\"dataframe\">\n",
       "  <thead>\n",
       "    <tr style=\"text-align: right;\">\n",
       "      <th></th>\n",
       "      <th>country</th>\n",
       "      <th>year</th>\n",
       "      <th>GDP_per_capita</th>\n",
       "      <th>GDP_growth</th>\n",
       "      <th>female_unemployment</th>\n",
       "      <th>male_unemployment</th>\n",
       "    </tr>\n",
       "  </thead>\n",
       "  <tbody>\n",
       "    <tr>\n",
       "      <th>0</th>\n",
       "      <td>China</td>\n",
       "      <td>2018</td>\n",
       "      <td>9770.847088</td>\n",
       "      <td>6.566974</td>\n",
       "      <td>3.703</td>\n",
       "      <td>4.722</td>\n",
       "    </tr>\n",
       "    <tr>\n",
       "      <th>1</th>\n",
       "      <td>China</td>\n",
       "      <td>2017</td>\n",
       "      <td>8759.041578</td>\n",
       "      <td>6.757008</td>\n",
       "      <td>3.847</td>\n",
       "      <td>4.905</td>\n",
       "    </tr>\n",
       "    <tr>\n",
       "      <th>2</th>\n",
       "      <td>China</td>\n",
       "      <td>2016</td>\n",
       "      <td>8078.790474</td>\n",
       "      <td>6.736675</td>\n",
       "      <td>3.929</td>\n",
       "      <td>5.010</td>\n",
       "    </tr>\n",
       "    <tr>\n",
       "      <th>3</th>\n",
       "      <td>China</td>\n",
       "      <td>2015</td>\n",
       "      <td>8033.388043</td>\n",
       "      <td>6.905317</td>\n",
       "      <td>4.012</td>\n",
       "      <td>5.115</td>\n",
       "    </tr>\n",
       "    <tr>\n",
       "      <th>4</th>\n",
       "      <td>China</td>\n",
       "      <td>2014</td>\n",
       "      <td>7651.366044</td>\n",
       "      <td>7.299519</td>\n",
       "      <td>3.994</td>\n",
       "      <td>5.093</td>\n",
       "    </tr>\n",
       "    <tr>\n",
       "      <th>5</th>\n",
       "      <td>China</td>\n",
       "      <td>2013</td>\n",
       "      <td>7050.645920</td>\n",
       "      <td>7.768615</td>\n",
       "      <td>3.978</td>\n",
       "      <td>5.072</td>\n",
       "    </tr>\n",
       "    <tr>\n",
       "      <th>6</th>\n",
       "      <td>China</td>\n",
       "      <td>2012</td>\n",
       "      <td>6316.918863</td>\n",
       "      <td>7.859627</td>\n",
       "      <td>3.960</td>\n",
       "      <td>5.049</td>\n",
       "    </tr>\n",
       "    <tr>\n",
       "      <th>7</th>\n",
       "      <td>China</td>\n",
       "      <td>2011</td>\n",
       "      <td>5618.132491</td>\n",
       "      <td>9.550914</td>\n",
       "      <td>3.942</td>\n",
       "      <td>5.026</td>\n",
       "    </tr>\n",
       "    <tr>\n",
       "      <th>8</th>\n",
       "      <td>China</td>\n",
       "      <td>2010</td>\n",
       "      <td>4550.453596</td>\n",
       "      <td>10.636140</td>\n",
       "      <td>3.923</td>\n",
       "      <td>5.002</td>\n",
       "    </tr>\n",
       "    <tr>\n",
       "      <th>9</th>\n",
       "      <td>China</td>\n",
       "      <td>2009</td>\n",
       "      <td>3832.235952</td>\n",
       "      <td>9.399813</td>\n",
       "      <td>4.092</td>\n",
       "      <td>5.218</td>\n",
       "    </tr>\n",
       "  </tbody>\n",
       "</table>\n",
       "</div>"
      ],
      "text/plain": [
       "  country  year  GDP_per_capita  GDP_growth  female_unemployment  \\\n",
       "0   China  2018     9770.847088    6.566974                3.703   \n",
       "1   China  2017     8759.041578    6.757008                3.847   \n",
       "2   China  2016     8078.790474    6.736675                3.929   \n",
       "3   China  2015     8033.388043    6.905317                4.012   \n",
       "4   China  2014     7651.366044    7.299519                3.994   \n",
       "5   China  2013     7050.645920    7.768615                3.978   \n",
       "6   China  2012     6316.918863    7.859627                3.960   \n",
       "7   China  2011     5618.132491    9.550914                3.942   \n",
       "8   China  2010     4550.453596   10.636140                3.923   \n",
       "9   China  2009     3832.235952    9.399813                4.092   \n",
       "\n",
       "   male_unemployment  \n",
       "0              4.722  \n",
       "1              4.905  \n",
       "2              5.010  \n",
       "3              5.115  \n",
       "4              5.093  \n",
       "5              5.072  \n",
       "6              5.049  \n",
       "7              5.026  \n",
       "8              5.002  \n",
       "9              5.218  "
      ]
     },
     "execution_count": 6,
     "metadata": {},
     "output_type": "execute_result"
    }
   ],
   "source": [
    "data = pd.merge(gdp, un,how='outer',on = ['country','year'])\n",
    "data.head(10)"
   ]
  },
  {
   "cell_type": "markdown",
   "metadata": {},
   "source": [
    "**group by**"
   ]
  },
  {
   "cell_type": "markdown",
   "metadata": {},
   "source": [
    "now sort values by countries then year"
   ]
  },
  {
   "cell_type": "code",
   "execution_count": 7,
   "metadata": {},
   "outputs": [
    {
     "data": {
      "text/html": [
       "<div>\n",
       "<style scoped>\n",
       "    .dataframe tbody tr th:only-of-type {\n",
       "        vertical-align: middle;\n",
       "    }\n",
       "\n",
       "    .dataframe tbody tr th {\n",
       "        vertical-align: top;\n",
       "    }\n",
       "\n",
       "    .dataframe thead th {\n",
       "        text-align: right;\n",
       "    }\n",
       "</style>\n",
       "<table border=\"1\" class=\"dataframe\">\n",
       "  <thead>\n",
       "    <tr style=\"text-align: right;\">\n",
       "      <th></th>\n",
       "      <th>country</th>\n",
       "      <th>year</th>\n",
       "      <th>GDP_per_capita</th>\n",
       "      <th>GDP_growth</th>\n",
       "      <th>female_unemployment</th>\n",
       "      <th>male_unemployment</th>\n",
       "    </tr>\n",
       "  </thead>\n",
       "  <tbody>\n",
       "    <tr>\n",
       "      <th>28</th>\n",
       "      <td>China</td>\n",
       "      <td>1990</td>\n",
       "      <td>317.884673</td>\n",
       "      <td>3.907114</td>\n",
       "      <td>NaN</td>\n",
       "      <td>NaN</td>\n",
       "    </tr>\n",
       "    <tr>\n",
       "      <th>27</th>\n",
       "      <td>China</td>\n",
       "      <td>1991</td>\n",
       "      <td>333.142145</td>\n",
       "      <td>9.294076</td>\n",
       "      <td>2.060</td>\n",
       "      <td>2.627</td>\n",
       "    </tr>\n",
       "    <tr>\n",
       "      <th>26</th>\n",
       "      <td>China</td>\n",
       "      <td>1992</td>\n",
       "      <td>366.460692</td>\n",
       "      <td>14.216164</td>\n",
       "      <td>2.063</td>\n",
       "      <td>2.630</td>\n",
       "    </tr>\n",
       "    <tr>\n",
       "      <th>25</th>\n",
       "      <td>China</td>\n",
       "      <td>1993</td>\n",
       "      <td>377.389839</td>\n",
       "      <td>13.867576</td>\n",
       "      <td>2.335</td>\n",
       "      <td>2.977</td>\n",
       "    </tr>\n",
       "    <tr>\n",
       "      <th>24</th>\n",
       "      <td>China</td>\n",
       "      <td>1994</td>\n",
       "      <td>473.492279</td>\n",
       "      <td>13.052159</td>\n",
       "      <td>2.517</td>\n",
       "      <td>3.209</td>\n",
       "    </tr>\n",
       "  </tbody>\n",
       "</table>\n",
       "</div>"
      ],
      "text/plain": [
       "   country  year  GDP_per_capita  GDP_growth  female_unemployment  \\\n",
       "28   China  1990      317.884673    3.907114                  NaN   \n",
       "27   China  1991      333.142145    9.294076                2.060   \n",
       "26   China  1992      366.460692   14.216164                2.063   \n",
       "25   China  1993      377.389839   13.867576                2.335   \n",
       "24   China  1994      473.492279   13.052159                2.517   \n",
       "\n",
       "    male_unemployment  \n",
       "28                NaN  \n",
       "27              2.627  \n",
       "26              2.630  \n",
       "25              2.977  \n",
       "24              3.209  "
      ]
     },
     "execution_count": 7,
     "metadata": {},
     "output_type": "execute_result"
    }
   ],
   "source": [
    "data = data.sort_values(['country','year'])\n",
    "data.head(5)"
   ]
  },
  {
   "cell_type": "markdown",
   "metadata": {},
   "source": [
    "drop rows with missing "
   ]
  },
  {
   "cell_type": "code",
   "execution_count": 8,
   "metadata": {},
   "outputs": [
    {
     "data": {
      "text/html": [
       "<div>\n",
       "<style scoped>\n",
       "    .dataframe tbody tr th:only-of-type {\n",
       "        vertical-align: middle;\n",
       "    }\n",
       "\n",
       "    .dataframe tbody tr th {\n",
       "        vertical-align: top;\n",
       "    }\n",
       "\n",
       "    .dataframe thead th {\n",
       "        text-align: right;\n",
       "    }\n",
       "</style>\n",
       "<table border=\"1\" class=\"dataframe\">\n",
       "  <thead>\n",
       "    <tr style=\"text-align: right;\">\n",
       "      <th></th>\n",
       "      <th>country</th>\n",
       "      <th>year</th>\n",
       "      <th>GDP_per_capita</th>\n",
       "      <th>GDP_growth</th>\n",
       "      <th>female_unemployment</th>\n",
       "      <th>male_unemployment</th>\n",
       "    </tr>\n",
       "  </thead>\n",
       "  <tbody>\n",
       "    <tr>\n",
       "      <th>27</th>\n",
       "      <td>China</td>\n",
       "      <td>1991</td>\n",
       "      <td>333.142145</td>\n",
       "      <td>9.294076</td>\n",
       "      <td>2.060</td>\n",
       "      <td>2.627</td>\n",
       "    </tr>\n",
       "    <tr>\n",
       "      <th>26</th>\n",
       "      <td>China</td>\n",
       "      <td>1992</td>\n",
       "      <td>366.460692</td>\n",
       "      <td>14.216164</td>\n",
       "      <td>2.063</td>\n",
       "      <td>2.630</td>\n",
       "    </tr>\n",
       "    <tr>\n",
       "      <th>25</th>\n",
       "      <td>China</td>\n",
       "      <td>1993</td>\n",
       "      <td>377.389839</td>\n",
       "      <td>13.867576</td>\n",
       "      <td>2.335</td>\n",
       "      <td>2.977</td>\n",
       "    </tr>\n",
       "    <tr>\n",
       "      <th>24</th>\n",
       "      <td>China</td>\n",
       "      <td>1994</td>\n",
       "      <td>473.492279</td>\n",
       "      <td>13.052159</td>\n",
       "      <td>2.517</td>\n",
       "      <td>3.209</td>\n",
       "    </tr>\n",
       "    <tr>\n",
       "      <th>23</th>\n",
       "      <td>China</td>\n",
       "      <td>1995</td>\n",
       "      <td>609.656679</td>\n",
       "      <td>10.949227</td>\n",
       "      <td>2.610</td>\n",
       "      <td>3.328</td>\n",
       "    </tr>\n",
       "  </tbody>\n",
       "</table>\n",
       "</div>"
      ],
      "text/plain": [
       "   country  year  GDP_per_capita  GDP_growth  female_unemployment  \\\n",
       "27   China  1991      333.142145    9.294076                2.060   \n",
       "26   China  1992      366.460692   14.216164                2.063   \n",
       "25   China  1993      377.389839   13.867576                2.335   \n",
       "24   China  1994      473.492279   13.052159                2.517   \n",
       "23   China  1995      609.656679   10.949227                2.610   \n",
       "\n",
       "    male_unemployment  \n",
       "27              2.627  \n",
       "26              2.630  \n",
       "25              2.977  \n",
       "24              3.209  \n",
       "23              3.328  "
      ]
     },
     "execution_count": 8,
     "metadata": {},
     "output_type": "execute_result"
    }
   ],
   "source": [
    "data.dropna(inplace=True)\n",
    "data.head(5)"
   ]
  },
  {
   "cell_type": "markdown",
   "metadata": {},
   "source": [
    "use groupby to calculate means of unemployment rate for both male and female within countries"
   ]
  },
  {
   "cell_type": "code",
   "execution_count": 9,
   "metadata": {},
   "outputs": [
    {
     "data": {
      "text/plain": [
       "country\n",
       "China          3.404893\n",
       "India          5.489000\n",
       "Indonesia      5.956214\n",
       "Japan          3.688821\n",
       "Korea, Rep.    3.053357\n",
       "Malaysia       3.615714\n",
       "Philippines    3.805107\n",
       "Singapore      4.341821\n",
       "Thailand       1.371179\n",
       "Vietnam        1.995857\n",
       "Name: female_unemployment, dtype: float64"
      ]
     },
     "execution_count": 9,
     "metadata": {},
     "output_type": "execute_result"
    }
   ],
   "source": [
    "data.groupby('country')['female_unemployment'].mean()"
   ]
  },
  {
   "cell_type": "code",
   "execution_count": 10,
   "metadata": {},
   "outputs": [
    {
     "data": {
      "text/plain": [
       "country\n",
       "China          4.341286\n",
       "India          5.605036\n",
       "Indonesia      4.851071\n",
       "Japan          3.997500\n",
       "Korea, Rep.    3.816250\n",
       "Malaysia       3.139893\n",
       "Philippines    3.326179\n",
       "Singapore      3.836000\n",
       "Thailand       1.331536\n",
       "Vietnam        2.067714\n",
       "Name: male_unemployment, dtype: float64"
      ]
     },
     "execution_count": 10,
     "metadata": {},
     "output_type": "execute_result"
    }
   ],
   "source": [
    "data.groupby('country')['male_unemployment'].mean()"
   ]
  },
  {
   "cell_type": "markdown",
   "metadata": {},
   "source": [
    "## Explore data set"
   ]
  },
  {
   "cell_type": "markdown",
   "metadata": {},
   "source": [
    "In order to be able to explore the raw data, provide both static interactive plot to show gdp growth rate and unemployment rate for both male and female in each country"
   ]
  },
  {
   "cell_type": "code",
   "execution_count": 11,
   "metadata": {},
   "outputs": [
    {
     "data": {
      "text/plain": [
       "[<matplotlib.lines.Line2D at 0x717c21978>]"
      ]
     },
     "execution_count": 11,
     "metadata": {},
     "output_type": "execute_result"
    },
    {
     "data": {
      "image/png": "[encoded data removed]",
      "text/plain": [
       "<Figure size 432x288 with 1 Axes>"
      ]
     },
     "metadata": {
      "needs_background": "light"
     },
     "output_type": "display_data"
    }
   ],
   "source": [
    "# first calculate the average of male unemployment and female unemployment name them m_mean, f_mean\n",
    "m_mean = data.groupby('year')['male_unemployment'].mean()\n",
    "f_mean = data.groupby('year')['female_unemployment'].mean()\n",
    "# I have different year oberservations in origional data thus create an new data with the same year observations with m_mean and f_mean and name it J\n",
    "J = data[data.country == 'China']\n",
    "# plots\n",
    "plt.plot(J.year, m_mean,label='Average male unemployment rate overtime')"
   ]
  },
  {
   "cell_type": "code",
   "execution_count": 12,
   "metadata": {},
   "outputs": [
    {
     "data": {
      "text/plain": [
       "[<matplotlib.lines.Line2D at 0x1019a7dc18>]"
      ]
     },
     "execution_count": 12,
     "metadata": {},
     "output_type": "execute_result"
    },
    {
     "data": {
      "image/png": "[encoded data removed]",
      "text/plain": [
       "<Figure size 432x288 with 1 Axes>"
      ]
     },
     "metadata": {
      "needs_background": "light"
     },
     "output_type": "display_data"
    }
   ],
   "source": [
    "plt.plot(J.year, f_mean,label='Average female unemployment rate overtime')"
   ]
  },
  {
   "cell_type": "code",
   "execution_count": 13,
   "metadata": {},
   "outputs": [],
   "source": [
    "# first make an interactive plot of GDP growth rate.\n",
    "import ipywidgets as widgets\n",
    "def plot_0(df, country): \n",
    "    I = df['country'] == country\n",
    "    ax=df.loc[I,:].plot(x='year', y='GDP_growth', style='-o', legend=False)"
   ]
  },
  {
   "cell_type": "code",
   "execution_count": 14,
   "metadata": {
    "scrolled": true
   },
   "outputs": [
    {
     "data": {
      "application/vnd.jupyter.widget-view+json": {
       "model_id": "66ea20460408408f94da8e4ed9277f5a",
       "version_major": 2,
       "version_minor": 0
      },
      "text/plain": [
       "interactive(children=(Dropdown(description='country', options=('China', 'India', 'Indonesia', 'Japan', 'Korea,…"
      ]
     },
     "metadata": {},
     "output_type": "display_data"
    }
   ],
   "source": [
    "widgets.interact(plot_0, \n",
    "    df = widgets.fixed(data),\n",
    "    country = widgets.Dropdown(description='country', \n",
    "                                    options=data.country.unique(), \n",
    "                                    value='China')\n",
    "); "
   ]
  },
  {
   "cell_type": "code",
   "execution_count": 15,
   "metadata": {},
   "outputs": [],
   "source": [
    "# then make an interactive plot of male unemployment \n",
    "import ipywidgets as widgets\n",
    "def plot(df, country): \n",
    "    I = df['country'] == country\n",
    "    ax=df.loc[I,:].plot(x='year', y='male_unemployment', style='-o', legend=False)"
   ]
  },
  {
   "cell_type": "code",
   "execution_count": 16,
   "metadata": {
    "scrolled": true
   },
   "outputs": [
    {
     "data": {
      "application/vnd.jupyter.widget-view+json": {
       "model_id": "498c118110e74d7bbd1197d7ea398d27",
       "version_major": 2,
       "version_minor": 0
      },
      "text/plain": [
       "interactive(children=(Dropdown(description='country', options=('China', 'India', 'Indonesia', 'Japan', 'Korea,…"
      ]
     },
     "metadata": {},
     "output_type": "display_data"
    }
   ],
   "source": [
    "widgets.interact(plot, \n",
    "    df = widgets.fixed(data),\n",
    "    country = widgets.Dropdown(description='country', \n",
    "                                    options=data.country.unique(), \n",
    "                                    value='China')\n",
    "); "
   ]
  },
  {
   "cell_type": "code",
   "execution_count": 17,
   "metadata": {},
   "outputs": [
    {
     "data": {
      "application/vnd.jupyter.widget-view+json": {
       "model_id": "115a4406a6dc4e49a2487d0a48d9a9ca",
       "version_major": 2,
       "version_minor": 0
      },
      "text/plain": [
       "interactive(children=(Dropdown(description='country', options=('China', 'India', 'Indonesia', 'Japan', 'Korea,…"
      ]
     },
     "metadata": {},
     "output_type": "display_data"
    }
   ],
   "source": [
    "# after that make an interactive plot of female unemployment \n",
    "import ipywidgets as widgets\n",
    "def plot(df, country): \n",
    "    I = df['country'] == country\n",
    "    ax=df.loc[I,:].plot(x='year', y='female_unemployment', style='-o', legend=False)\n",
    "widgets.interact(plot, \n",
    "    df = widgets.fixed(data),\n",
    "    country = widgets.Dropdown(description='country', \n",
    "                                    options=data.country.unique(), \n",
    "                                    value='China')\n",
    "); "
   ]
  },
  {
   "cell_type": "markdown",
   "metadata": {},
   "source": [
    "# Analysis"
   ]
  },
  {
   "cell_type": "markdown",
   "metadata": {},
   "source": [
    "use groupby and describe to calculte mean and standard deviation of unemployment rate for male and female"
   ]
  },
  {
   "cell_type": "code",
   "execution_count": 18,
   "metadata": {},
   "outputs": [
    {
     "data": {
      "text/html": [
       "<div>\n",
       "<style scoped>\n",
       "    .dataframe tbody tr th:only-of-type {\n",
       "        vertical-align: middle;\n",
       "    }\n",
       "\n",
       "    .dataframe tbody tr th {\n",
       "        vertical-align: top;\n",
       "    }\n",
       "\n",
       "    .dataframe thead th {\n",
       "        text-align: right;\n",
       "    }\n",
       "</style>\n",
       "<table border=\"1\" class=\"dataframe\">\n",
       "  <thead>\n",
       "    <tr style=\"text-align: right;\">\n",
       "      <th></th>\n",
       "      <th>count</th>\n",
       "      <th>mean</th>\n",
       "      <th>std</th>\n",
       "      <th>min</th>\n",
       "      <th>25%</th>\n",
       "      <th>50%</th>\n",
       "      <th>75%</th>\n",
       "      <th>max</th>\n",
       "    </tr>\n",
       "    <tr>\n",
       "      <th>country</th>\n",
       "      <th></th>\n",
       "      <th></th>\n",
       "      <th></th>\n",
       "      <th></th>\n",
       "      <th></th>\n",
       "      <th></th>\n",
       "      <th></th>\n",
       "      <th></th>\n",
       "    </tr>\n",
       "  </thead>\n",
       "  <tbody>\n",
       "    <tr>\n",
       "      <th>China</th>\n",
       "      <td>28.0</td>\n",
       "      <td>4.341286</td>\n",
       "      <td>0.869143</td>\n",
       "      <td>2.627</td>\n",
       "      <td>3.58925</td>\n",
       "      <td>4.8545</td>\n",
       "      <td>5.03175</td>\n",
       "      <td>5.218</td>\n",
       "    </tr>\n",
       "    <tr>\n",
       "      <th>India</th>\n",
       "      <td>28.0</td>\n",
       "      <td>5.605036</td>\n",
       "      <td>0.131646</td>\n",
       "      <td>5.303</td>\n",
       "      <td>5.55300</td>\n",
       "      <td>5.6570</td>\n",
       "      <td>5.69350</td>\n",
       "      <td>5.797</td>\n",
       "    </tr>\n",
       "    <tr>\n",
       "      <th>Indonesia</th>\n",
       "      <td>28.0</td>\n",
       "      <td>4.851071</td>\n",
       "      <td>1.285286</td>\n",
       "      <td>2.328</td>\n",
       "      <td>4.12875</td>\n",
       "      <td>4.7895</td>\n",
       "      <td>5.77950</td>\n",
       "      <td>6.953</td>\n",
       "    </tr>\n",
       "    <tr>\n",
       "      <th>Japan</th>\n",
       "      <td>28.0</td>\n",
       "      <td>3.997500</td>\n",
       "      <td>1.057395</td>\n",
       "      <td>2.018</td>\n",
       "      <td>3.27750</td>\n",
       "      <td>4.1530</td>\n",
       "      <td>4.83150</td>\n",
       "      <td>5.564</td>\n",
       "    </tr>\n",
       "    <tr>\n",
       "      <th>Korea, Rep.</th>\n",
       "      <td>28.0</td>\n",
       "      <td>3.816250</td>\n",
       "      <td>1.200802</td>\n",
       "      <td>2.311</td>\n",
       "      <td>3.27650</td>\n",
       "      <td>3.6535</td>\n",
       "      <td>3.93825</td>\n",
       "      <td>7.812</td>\n",
       "    </tr>\n",
       "    <tr>\n",
       "      <th>Malaysia</th>\n",
       "      <td>28.0</td>\n",
       "      <td>3.139893</td>\n",
       "      <td>0.337500</td>\n",
       "      <td>2.236</td>\n",
       "      <td>2.95625</td>\n",
       "      <td>3.1455</td>\n",
       "      <td>3.37300</td>\n",
       "      <td>3.700</td>\n",
       "    </tr>\n",
       "    <tr>\n",
       "      <th>Philippines</th>\n",
       "      <td>28.0</td>\n",
       "      <td>3.326179</td>\n",
       "      <td>0.367146</td>\n",
       "      <td>2.125</td>\n",
       "      <td>3.34300</td>\n",
       "      <td>3.4255</td>\n",
       "      <td>3.49825</td>\n",
       "      <td>3.876</td>\n",
       "    </tr>\n",
       "    <tr>\n",
       "      <th>Singapore</th>\n",
       "      <td>28.0</td>\n",
       "      <td>3.836000</td>\n",
       "      <td>0.944380</td>\n",
       "      <td>2.176</td>\n",
       "      <td>3.33375</td>\n",
       "      <td>3.6500</td>\n",
       "      <td>4.06325</td>\n",
       "      <td>5.752</td>\n",
       "    </tr>\n",
       "    <tr>\n",
       "      <th>Thailand</th>\n",
       "      <td>28.0</td>\n",
       "      <td>1.331536</td>\n",
       "      <td>0.772561</td>\n",
       "      <td>0.500</td>\n",
       "      <td>0.75450</td>\n",
       "      <td>1.1710</td>\n",
       "      <td>1.61975</td>\n",
       "      <td>3.411</td>\n",
       "    </tr>\n",
       "    <tr>\n",
       "      <th>Vietnam</th>\n",
       "      <td>28.0</td>\n",
       "      <td>2.067714</td>\n",
       "      <td>0.352382</td>\n",
       "      <td>1.148</td>\n",
       "      <td>1.92575</td>\n",
       "      <td>2.1250</td>\n",
       "      <td>2.21400</td>\n",
       "      <td>3.179</td>\n",
       "    </tr>\n",
       "  </tbody>\n",
       "</table>\n",
       "</div>"
      ],
      "text/plain": [
       "             count      mean       std    min      25%     50%      75%    max\n",
       "country                                                                       \n",
       "China         28.0  4.341286  0.869143  2.627  3.58925  4.8545  5.03175  5.218\n",
       "India         28.0  5.605036  0.131646  5.303  5.55300  5.6570  5.69350  5.797\n",
       "Indonesia     28.0  4.851071  1.285286  2.328  4.12875  4.7895  5.77950  6.953\n",
       "Japan         28.0  3.997500  1.057395  2.018  3.27750  4.1530  4.83150  5.564\n",
       "Korea, Rep.   28.0  3.816250  1.200802  2.311  3.27650  3.6535  3.93825  7.812\n",
       "Malaysia      28.0  3.139893  0.337500  2.236  2.95625  3.1455  3.37300  3.700\n",
       "Philippines   28.0  3.326179  0.367146  2.125  3.34300  3.4255  3.49825  3.876\n",
       "Singapore     28.0  3.836000  0.944380  2.176  3.33375  3.6500  4.06325  5.752\n",
       "Thailand      28.0  1.331536  0.772561  0.500  0.75450  1.1710  1.61975  3.411\n",
       "Vietnam       28.0  2.067714  0.352382  1.148  1.92575  2.1250  2.21400  3.179"
      ]
     },
     "execution_count": 18,
     "metadata": {},
     "output_type": "execute_result"
    }
   ],
   "source": [
    "data.groupby('country')['male_unemployment'].describe()"
   ]
  },
  {
   "cell_type": "code",
   "execution_count": 19,
   "metadata": {},
   "outputs": [
    {
     "data": {
      "text/html": [
       "<div>\n",
       "<style scoped>\n",
       "    .dataframe tbody tr th:only-of-type {\n",
       "        vertical-align: middle;\n",
       "    }\n",
       "\n",
       "    .dataframe tbody tr th {\n",
       "        vertical-align: top;\n",
       "    }\n",
       "\n",
       "    .dataframe thead th {\n",
       "        text-align: right;\n",
       "    }\n",
       "</style>\n",
       "<table border=\"1\" class=\"dataframe\">\n",
       "  <thead>\n",
       "    <tr style=\"text-align: right;\">\n",
       "      <th></th>\n",
       "      <th>count</th>\n",
       "      <th>mean</th>\n",
       "      <th>std</th>\n",
       "      <th>min</th>\n",
       "      <th>25%</th>\n",
       "      <th>50%</th>\n",
       "      <th>75%</th>\n",
       "      <th>max</th>\n",
       "    </tr>\n",
       "    <tr>\n",
       "      <th>country</th>\n",
       "      <th></th>\n",
       "      <th></th>\n",
       "      <th></th>\n",
       "      <th></th>\n",
       "      <th></th>\n",
       "      <th></th>\n",
       "      <th></th>\n",
       "      <th></th>\n",
       "    </tr>\n",
       "  </thead>\n",
       "  <tbody>\n",
       "    <tr>\n",
       "      <th>China</th>\n",
       "      <td>28.0</td>\n",
       "      <td>3.404893</td>\n",
       "      <td>0.681646</td>\n",
       "      <td>2.060</td>\n",
       "      <td>2.81500</td>\n",
       "      <td>3.8070</td>\n",
       "      <td>3.94650</td>\n",
       "      <td>4.092</td>\n",
       "    </tr>\n",
       "    <tr>\n",
       "      <th>India</th>\n",
       "      <td>28.0</td>\n",
       "      <td>5.489000</td>\n",
       "      <td>0.165089</td>\n",
       "      <td>5.060</td>\n",
       "      <td>5.38400</td>\n",
       "      <td>5.5010</td>\n",
       "      <td>5.62250</td>\n",
       "      <td>5.741</td>\n",
       "    </tr>\n",
       "    <tr>\n",
       "      <th>Indonesia</th>\n",
       "      <td>28.0</td>\n",
       "      <td>5.956214</td>\n",
       "      <td>2.159204</td>\n",
       "      <td>2.814</td>\n",
       "      <td>4.18675</td>\n",
       "      <td>5.6310</td>\n",
       "      <td>7.49975</td>\n",
       "      <td>10.053</td>\n",
       "    </tr>\n",
       "    <tr>\n",
       "      <th>Japan</th>\n",
       "      <td>28.0</td>\n",
       "      <td>3.688821</td>\n",
       "      <td>0.862363</td>\n",
       "      <td>2.178</td>\n",
       "      <td>3.08975</td>\n",
       "      <td>3.8015</td>\n",
       "      <td>4.41875</td>\n",
       "      <td>5.159</td>\n",
       "    </tr>\n",
       "    <tr>\n",
       "      <th>Korea, Rep.</th>\n",
       "      <td>28.0</td>\n",
       "      <td>3.053357</td>\n",
       "      <td>0.903503</td>\n",
       "      <td>1.582</td>\n",
       "      <td>2.49725</td>\n",
       "      <td>3.0360</td>\n",
       "      <td>3.46725</td>\n",
       "      <td>5.655</td>\n",
       "    </tr>\n",
       "    <tr>\n",
       "      <th>Malaysia</th>\n",
       "      <td>28.0</td>\n",
       "      <td>3.615714</td>\n",
       "      <td>0.474015</td>\n",
       "      <td>2.604</td>\n",
       "      <td>3.31275</td>\n",
       "      <td>3.6545</td>\n",
       "      <td>3.81025</td>\n",
       "      <td>4.844</td>\n",
       "    </tr>\n",
       "    <tr>\n",
       "      <th>Philippines</th>\n",
       "      <td>28.0</td>\n",
       "      <td>3.805107</td>\n",
       "      <td>0.426085</td>\n",
       "      <td>2.676</td>\n",
       "      <td>3.77500</td>\n",
       "      <td>3.9025</td>\n",
       "      <td>4.06475</td>\n",
       "      <td>4.330</td>\n",
       "    </tr>\n",
       "    <tr>\n",
       "      <th>Singapore</th>\n",
       "      <td>28.0</td>\n",
       "      <td>4.341821</td>\n",
       "      <td>1.078236</td>\n",
       "      <td>2.186</td>\n",
       "      <td>3.63625</td>\n",
       "      <td>4.2920</td>\n",
       "      <td>4.60600</td>\n",
       "      <td>6.547</td>\n",
       "    </tr>\n",
       "    <tr>\n",
       "      <th>Thailand</th>\n",
       "      <td>28.0</td>\n",
       "      <td>1.371179</td>\n",
       "      <td>0.841359</td>\n",
       "      <td>0.476</td>\n",
       "      <td>0.73575</td>\n",
       "      <td>1.1185</td>\n",
       "      <td>1.62425</td>\n",
       "      <td>3.430</td>\n",
       "    </tr>\n",
       "    <tr>\n",
       "      <th>Vietnam</th>\n",
       "      <td>28.0</td>\n",
       "      <td>1.995857</td>\n",
       "      <td>0.436267</td>\n",
       "      <td>1.076</td>\n",
       "      <td>1.68750</td>\n",
       "      <td>1.9300</td>\n",
       "      <td>2.27500</td>\n",
       "      <td>3.274</td>\n",
       "    </tr>\n",
       "  </tbody>\n",
       "</table>\n",
       "</div>"
      ],
      "text/plain": [
       "             count      mean       std    min      25%     50%      75%  \\\n",
       "country                                                                   \n",
       "China         28.0  3.404893  0.681646  2.060  2.81500  3.8070  3.94650   \n",
       "India         28.0  5.489000  0.165089  5.060  5.38400  5.5010  5.62250   \n",
       "Indonesia     28.0  5.956214  2.159204  2.814  4.18675  5.6310  7.49975   \n",
       "Japan         28.0  3.688821  0.862363  2.178  3.08975  3.8015  4.41875   \n",
       "Korea, Rep.   28.0  3.053357  0.903503  1.582  2.49725  3.0360  3.46725   \n",
       "Malaysia      28.0  3.615714  0.474015  2.604  3.31275  3.6545  3.81025   \n",
       "Philippines   28.0  3.805107  0.426085  2.676  3.77500  3.9025  4.06475   \n",
       "Singapore     28.0  4.341821  1.078236  2.186  3.63625  4.2920  4.60600   \n",
       "Thailand      28.0  1.371179  0.841359  0.476  0.73575  1.1185  1.62425   \n",
       "Vietnam       28.0  1.995857  0.436267  1.076  1.68750  1.9300  2.27500   \n",
       "\n",
       "                max  \n",
       "country              \n",
       "China         4.092  \n",
       "India         5.741  \n",
       "Indonesia    10.053  \n",
       "Japan         5.159  \n",
       "Korea, Rep.   5.655  \n",
       "Malaysia      4.844  \n",
       "Philippines   4.330  \n",
       "Singapore     6.547  \n",
       "Thailand      3.430  \n",
       "Vietnam       3.274  "
      ]
     },
     "execution_count": 19,
     "metadata": {},
     "output_type": "execute_result"
    }
   ],
   "source": [
    "data.groupby('country')['female_unemployment'].describe()"
   ]
  },
  {
   "cell_type": "markdown",
   "metadata": {},
   "source": [
    "From statistics result shown above, I have found that China, Japan and Vietnam have higher average male unemployment rate while the other asian countries have relatively higher female unemployment rate. When it comes to standard deviation, China,Japan and Korea has higher standard deviation for male unemployment rates while India,Indonesia, Philippines, Thailand and Singapore has higher stanard deviation for female unemployment rates."
   ]
  },
  {
   "cell_type": "code",
   "execution_count": 20,
   "metadata": {},
   "outputs": [
    {
     "data": {
      "image/png": "[encoded data removed]",
      "text/plain": [
       "<Figure size 432x288 with 1 Axes>"
      ]
     },
     "metadata": {
      "needs_background": "light"
     },
     "output_type": "display_data"
    }
   ],
   "source": [
    "# Plot statistics: Dispersion in male unemployment rate across countries over time.\n",
    "fig = plt.figure()\n",
    "ax = fig.add_subplot(1,1,1)\n",
    "data.groupby('year')['male_unemployment'].mean().plot(ax=ax,style='-o')\n",
    "ax.set_ylabel('male unemployment rate')\n",
    "ax.set_title('mean male unemployment rate of asian countries');"
   ]
  },
  {
   "cell_type": "code",
   "execution_count": 21,
   "metadata": {},
   "outputs": [
    {
     "data": {
      "image/png": "[encoded data removed]",
      "text/plain": [
       "<Figure size 432x288 with 1 Axes>"
      ]
     },
     "metadata": {
      "needs_background": "light"
     },
     "output_type": "display_data"
    }
   ],
   "source": [
    "# similarly plot dispersion in female unemployment rare across countries over time \n",
    "fig = plt.figure()\n",
    "ax = fig.add_subplot(1,1,1)\n",
    "data.groupby('year')['female_unemployment'].mean().plot(ax=ax,style='-o')\n",
    "ax.set_ylabel('female unemployment rate')\n",
    "ax.set_title('female unemployment rate across countries');"
   ]
  },
  {
   "cell_type": "markdown",
   "metadata": {},
   "source": [
    "From 2 plots above can obeserve that the trend of unemployment rate change for both male and female are fairly similar over time, meanwhile female has slightly higher unemployement rate over male across Asian countries."
   ]
  },
  {
   "cell_type": "code",
   "execution_count": 22,
   "metadata": {
    "scrolled": true
   },
   "outputs": [
    {
     "data": {
      "text/plain": [
       "country\n",
       "China          4.341286\n",
       "India          5.605036\n",
       "Indonesia      4.851071\n",
       "Japan          3.997500\n",
       "Korea, Rep.    3.816250\n",
       "Malaysia       3.139893\n",
       "Philippines    3.326179\n",
       "Singapore      3.836000\n",
       "Thailand       1.331536\n",
       "Vietnam        2.067714\n",
       "Name: male_unemployment, dtype: float64"
      ]
     },
     "execution_count": 22,
     "metadata": {},
     "output_type": "execute_result"
    }
   ],
   "source": [
    "# calculate within countries mean of male unemployment rate.\n",
    "# split\n",
    "male_group = data.groupby('country')['male_unemployment']\n",
    "# apply\n",
    "male_mean = male_group.mean()\n",
    "male_mean"
   ]
  },
  {
   "cell_type": "code",
   "execution_count": 23,
   "metadata": {},
   "outputs": [
    {
     "data": {
      "text/html": [
       "<div>\n",
       "<style scoped>\n",
       "    .dataframe tbody tr th:only-of-type {\n",
       "        vertical-align: middle;\n",
       "    }\n",
       "\n",
       "    .dataframe tbody tr th {\n",
       "        vertical-align: top;\n",
       "    }\n",
       "\n",
       "    .dataframe thead th {\n",
       "        text-align: right;\n",
       "    }\n",
       "</style>\n",
       "<table border=\"1\" class=\"dataframe\">\n",
       "  <thead>\n",
       "    <tr style=\"text-align: right;\">\n",
       "      <th></th>\n",
       "      <th>year</th>\n",
       "      <th>GDP_per_capita</th>\n",
       "      <th>GDP_growth</th>\n",
       "      <th>female_unemployment</th>\n",
       "      <th>male_unemployment</th>\n",
       "      <th>male_mean</th>\n",
       "      <th>diff_male</th>\n",
       "    </tr>\n",
       "    <tr>\n",
       "      <th>country</th>\n",
       "      <th></th>\n",
       "      <th></th>\n",
       "      <th></th>\n",
       "      <th></th>\n",
       "      <th></th>\n",
       "      <th></th>\n",
       "      <th></th>\n",
       "    </tr>\n",
       "  </thead>\n",
       "  <tbody>\n",
       "    <tr>\n",
       "      <th>China</th>\n",
       "      <td>1991</td>\n",
       "      <td>333.142145</td>\n",
       "      <td>9.294076</td>\n",
       "      <td>2.060</td>\n",
       "      <td>2.627</td>\n",
       "      <td>4.341286</td>\n",
       "      <td>-1.714286</td>\n",
       "    </tr>\n",
       "    <tr>\n",
       "      <th>China</th>\n",
       "      <td>1992</td>\n",
       "      <td>366.460692</td>\n",
       "      <td>14.216164</td>\n",
       "      <td>2.063</td>\n",
       "      <td>2.630</td>\n",
       "      <td>4.341286</td>\n",
       "      <td>-1.711286</td>\n",
       "    </tr>\n",
       "    <tr>\n",
       "      <th>China</th>\n",
       "      <td>1993</td>\n",
       "      <td>377.389839</td>\n",
       "      <td>13.867576</td>\n",
       "      <td>2.335</td>\n",
       "      <td>2.977</td>\n",
       "      <td>4.341286</td>\n",
       "      <td>-1.364286</td>\n",
       "    </tr>\n",
       "    <tr>\n",
       "      <th>China</th>\n",
       "      <td>1994</td>\n",
       "      <td>473.492279</td>\n",
       "      <td>13.052159</td>\n",
       "      <td>2.517</td>\n",
       "      <td>3.209</td>\n",
       "      <td>4.341286</td>\n",
       "      <td>-1.132286</td>\n",
       "    </tr>\n",
       "    <tr>\n",
       "      <th>China</th>\n",
       "      <td>1995</td>\n",
       "      <td>609.656679</td>\n",
       "      <td>10.949227</td>\n",
       "      <td>2.610</td>\n",
       "      <td>3.328</td>\n",
       "      <td>4.341286</td>\n",
       "      <td>-1.013286</td>\n",
       "    </tr>\n",
       "  </tbody>\n",
       "</table>\n",
       "</div>"
      ],
      "text/plain": [
       "         year  GDP_per_capita  GDP_growth  female_unemployment  \\\n",
       "country                                                          \n",
       "China    1991      333.142145    9.294076                2.060   \n",
       "China    1992      366.460692   14.216164                2.063   \n",
       "China    1993      377.389839   13.867576                2.335   \n",
       "China    1994      473.492279   13.052159                2.517   \n",
       "China    1995      609.656679   10.949227                2.610   \n",
       "\n",
       "         male_unemployment  male_mean  diff_male  \n",
       "country                                           \n",
       "China                2.627   4.341286  -1.714286  \n",
       "China                2.630   4.341286  -1.711286  \n",
       "China                2.977   4.341286  -1.364286  \n",
       "China                3.209   4.341286  -1.132286  \n",
       "China                3.328   4.341286  -1.013286  "
      ]
     },
     "execution_count": 23,
     "metadata": {},
     "output_type": "execute_result"
    }
   ],
   "source": [
    "# name the mean unemployment for male over countries as male_mean.\n",
    "male_mean.name = 'male_mean'\n",
    "# combine new dataset to the old one.\n",
    "data0 = data.set_index('country').join(male_mean, how='left')\n",
    "data0['diff_male'] = data0.male_unemployment - data0.male_mean\n",
    "data0.xs('China').head(5)"
   ]
  },
  {
   "cell_type": "code",
   "execution_count": 24,
   "metadata": {},
   "outputs": [
    {
     "data": {
      "text/plain": [
       "Text(0, 0.5, 'difference to mean(male)')"
      ]
     },
     "execution_count": 24,
     "metadata": {},
     "output_type": "execute_result"
    },
    {
     "data": {
      "image/png": "[encoded data removed]",
      "text/plain": [
       "<Figure size 432x288 with 1 Axes>"
      ]
     },
     "metadata": {
      "needs_background": "light"
     },
     "output_type": "display_data"
    }
   ],
   "source": [
    "# plot the difference of male mean unemployment over asian countries: china, indonesia, philippines, malaysia and thailand\n",
    "countries = ['China','Thailand','Malaysia','Japan','Korea, Rep.','Singapore','Vietnam','India','Indonesia','Philippines']\n",
    "\n",
    "fig = plt.figure()\n",
    "ax = fig.add_subplot(1,1,1)\n",
    "\n",
    "for i in countries:\n",
    "    data0.xs(i).plot(x='year',y='diff_male',ax=ax,label=i)\n",
    "\n",
    "ax.legend(frameon=True)\n",
    "ax.set_ylabel('difference to mean(male)')"
   ]
  },
  {
   "cell_type": "markdown",
   "metadata": {},
   "source": [
    "Similarly calculate the mean of unemployment rate for female, create the new dataset, join to the old one, and plot the differences of female mean unemployment rate over asian countries."
   ]
  },
  {
   "cell_type": "code",
   "execution_count": 25,
   "metadata": {},
   "outputs": [
    {
     "data": {
      "text/html": [
       "<div>\n",
       "<style scoped>\n",
       "    .dataframe tbody tr th:only-of-type {\n",
       "        vertical-align: middle;\n",
       "    }\n",
       "\n",
       "    .dataframe tbody tr th {\n",
       "        vertical-align: top;\n",
       "    }\n",
       "\n",
       "    .dataframe thead th {\n",
       "        text-align: right;\n",
       "    }\n",
       "</style>\n",
       "<table border=\"1\" class=\"dataframe\">\n",
       "  <thead>\n",
       "    <tr style=\"text-align: right;\">\n",
       "      <th></th>\n",
       "      <th>year</th>\n",
       "      <th>GDP_per_capita</th>\n",
       "      <th>GDP_growth</th>\n",
       "      <th>female_unemployment</th>\n",
       "      <th>male_unemployment</th>\n",
       "      <th>female_mean</th>\n",
       "      <th>diff_female</th>\n",
       "    </tr>\n",
       "    <tr>\n",
       "      <th>country</th>\n",
       "      <th></th>\n",
       "      <th></th>\n",
       "      <th></th>\n",
       "      <th></th>\n",
       "      <th></th>\n",
       "      <th></th>\n",
       "      <th></th>\n",
       "    </tr>\n",
       "  </thead>\n",
       "  <tbody>\n",
       "    <tr>\n",
       "      <th>China</th>\n",
       "      <td>1991</td>\n",
       "      <td>333.142145</td>\n",
       "      <td>9.294076</td>\n",
       "      <td>2.060</td>\n",
       "      <td>2.627</td>\n",
       "      <td>3.404893</td>\n",
       "      <td>-1.344893</td>\n",
       "    </tr>\n",
       "    <tr>\n",
       "      <th>China</th>\n",
       "      <td>1992</td>\n",
       "      <td>366.460692</td>\n",
       "      <td>14.216164</td>\n",
       "      <td>2.063</td>\n",
       "      <td>2.630</td>\n",
       "      <td>3.404893</td>\n",
       "      <td>-1.341893</td>\n",
       "    </tr>\n",
       "    <tr>\n",
       "      <th>China</th>\n",
       "      <td>1993</td>\n",
       "      <td>377.389839</td>\n",
       "      <td>13.867576</td>\n",
       "      <td>2.335</td>\n",
       "      <td>2.977</td>\n",
       "      <td>3.404893</td>\n",
       "      <td>-1.069893</td>\n",
       "    </tr>\n",
       "    <tr>\n",
       "      <th>China</th>\n",
       "      <td>1994</td>\n",
       "      <td>473.492279</td>\n",
       "      <td>13.052159</td>\n",
       "      <td>2.517</td>\n",
       "      <td>3.209</td>\n",
       "      <td>3.404893</td>\n",
       "      <td>-0.887893</td>\n",
       "    </tr>\n",
       "    <tr>\n",
       "      <th>China</th>\n",
       "      <td>1995</td>\n",
       "      <td>609.656679</td>\n",
       "      <td>10.949227</td>\n",
       "      <td>2.610</td>\n",
       "      <td>3.328</td>\n",
       "      <td>3.404893</td>\n",
       "      <td>-0.794893</td>\n",
       "    </tr>\n",
       "  </tbody>\n",
       "</table>\n",
       "</div>"
      ],
      "text/plain": [
       "         year  GDP_per_capita  GDP_growth  female_unemployment  \\\n",
       "country                                                          \n",
       "China    1991      333.142145    9.294076                2.060   \n",
       "China    1992      366.460692   14.216164                2.063   \n",
       "China    1993      377.389839   13.867576                2.335   \n",
       "China    1994      473.492279   13.052159                2.517   \n",
       "China    1995      609.656679   10.949227                2.610   \n",
       "\n",
       "         male_unemployment  female_mean  diff_female  \n",
       "country                                               \n",
       "China                2.627     3.404893    -1.344893  \n",
       "China                2.630     3.404893    -1.341893  \n",
       "China                2.977     3.404893    -1.069893  \n",
       "China                3.209     3.404893    -0.887893  \n",
       "China                3.328     3.404893    -0.794893  "
      ]
     },
     "execution_count": 25,
     "metadata": {},
     "output_type": "execute_result"
    }
   ],
   "source": [
    "# split\n",
    "female_group = data.groupby('country')['female_unemployment']\n",
    "# apply\n",
    "female_mean = female_group.mean()\n",
    "# name the mean unemployment for female over countries as female_mean.\n",
    "female_mean.name = 'female_mean'\n",
    "# combine new dataset to the old one.\n",
    "data1 = data.set_index('country').join(female_mean, how='left')\n",
    "data1['diff_female'] = data1.female_unemployment - data1.female_mean\n",
    "# print the part of new dataset\n",
    "data1.xs('China').head(5)"
   ]
  },
  {
   "cell_type": "code",
   "execution_count": 26,
   "metadata": {},
   "outputs": [
    {
     "data": {
      "text/plain": [
       "Text(0, 0.5, 'difference to mean(female)')"
      ]
     },
     "execution_count": 26,
     "metadata": {},
     "output_type": "execute_result"
    },
    {
     "data": {
      "image/png": "[encoded data removed]",
      "text/plain": [
       "<Figure size 432x288 with 1 Axes>"
      ]
     },
     "metadata": {
      "needs_background": "light"
     },
     "output_type": "display_data"
    }
   ],
   "source": [
    "countries = ['China','Thailand','Malaysia','Japan','Korea, Rep.','Singapore','Vietnam','India','Indonesia','Philippines']\n",
    "\n",
    "fig = plt.figure()\n",
    "ax = fig.add_subplot(1,1,1)\n",
    "\n",
    "for i in countries:\n",
    "    data1.xs(i).plot(x='year',y='diff_female',ax=ax,label=i)\n",
    "\n",
    "ax.legend(frameon=True)\n",
    "ax.set_ylabel('difference to mean(female)')"
   ]
  },
  {
   "cell_type": "markdown",
   "metadata": {},
   "source": [
    "From the plot above have observed that the difference to mean for female is more severely fluctuated in some countries like indonesia, for male korea, but in the other contries the changing patterns are nearly the same. Thus in some countries female are more vulnerable under worse economic situations, but can not say that in general female are more vulnerable under worse economic situations in emerging economics "
   ]
  },
  {
   "cell_type": "markdown",
   "metadata": {},
   "source": [
    "Finally I calculate the correlation between gdp growth and unemployment rates for both male and female"
   ]
  },
  {
   "cell_type": "code",
   "execution_count": 27,
   "metadata": {},
   "outputs": [
    {
     "data": {
      "image/png": "[encoded data removed]",
      "text/plain": [
       "<Figure size 432x288 with 1 Axes>"
      ]
     },
     "metadata": {
      "needs_background": "light"
     },
     "output_type": "display_data"
    },
    {
     "data": {
      "image/png": "[encoded data removed]",
      "text/plain": [
       "<Figure size 432x288 with 1 Axes>"
      ]
     },
     "metadata": {
      "needs_background": "light"
     },
     "output_type": "display_data"
    }
   ],
   "source": [
    "# first take logs on male unemployment(%) and GDP per capita (%) named as 'log_male' and 'log_gdp_per_capita'\n",
    "data['log_male'] = np.log(data['male_unemployment'])\n",
    "data['log_gdp_per_capita'] = np.log(data['GDP_per_capita'])\n",
    "\n",
    "# then plot 2 figures, figure 1 shows log differences\n",
    "ax = data.groupby('country').diff(1).plot(x = 'log_gdp_per_capita', y = 'log_male', kind = 'scatter'); \n",
    "ax.set_xlabel('log difference in gdp per capita') \n",
    "ax.set_ylabel('log difference in unemployment rates for male')\n",
    "\n",
    "# figur 2 shows mean log differences\n",
    "ax = data.groupby('country').agg(lambda x: np.mean(x.diff())).plot(x = 'log_gdp_per_capita', y = 'log_male', kind = 'scatter'); \n",
    "ax.set_xlabel('mean log difference in gdp per capita')\n",
    "ax.set_ylabel('mean log difference in male unemployment rates'); "
   ]
  },
  {
   "cell_type": "code",
   "execution_count": 28,
   "metadata": {},
   "outputs": [
    {
     "data": {
      "image/png": "[encoded data removed]",
      "text/plain": [
       "<Figure size 432x288 with 1 Axes>"
      ]
     },
     "metadata": {
      "needs_background": "light"
     },
     "output_type": "display_data"
    },
    {
     "data": {
      "image/png": "[encoded data removed]",
      "text/plain": [
       "<Figure size 432x288 with 1 Axes>"
      ]
     },
     "metadata": {
      "needs_background": "light"
     },
     "output_type": "display_data"
    }
   ],
   "source": [
    "# take logs on female unemployment(%)  also and GDP per capita (%) named as 'log_female' and 'log_gdp_per_capita'\n",
    "data['log_female'] = np.log(data['female_unemployment'])\n",
    "data['log_gdp_per_capita'] = np.log(data['GDP_per_capita'])\n",
    "\n",
    "# then plot 2 figures, figure 1 shows log differences\n",
    "ax = data.groupby('country').diff(1).plot(x = 'log_gdp_per_capita', y = 'log_female', kind ='scatter'); \n",
    "ax.set_xlabel('log difference in gdp per capita') \n",
    "ax.set_ylabel('log difference in unemployment rates for female')\n",
    "\n",
    "# figur 2 shows mean log differences\n",
    "ax = data.groupby('country').agg(lambda x: np.mean(x.diff())).plot(x = 'log_gdp_per_capita', y = 'log_female', kind = 'scatter'); \n",
    "ax.set_xlabel('mean log difference in gdp per capita')\n",
    "ax.set_ylabel('mean log difference in female unemployment rates'); "
   ]
  },
  {
   "cell_type": "markdown",
   "metadata": {},
   "source": [
    "From two scatter plots above can not find the significant correlation between GDP growth rate and male or female unemployment rate. "
   ]
  },
  {
   "cell_type": "markdown",
   "metadata": {},
   "source": [
    "# Conclusion"
   ]
  },
  {
   "cell_type": "markdown",
   "metadata": {},
   "source": [
    "In the first part fetch unemployment data and GDP growth data from world bank database, combine 2 datasets into a new dataset called 'data' and remove the rows with missing. Then drew static plots and intercative plots and find out the changing pattern of average unemployment rates. I have noticed that the average unemployment rate for different Asian countries are different, China, Japan and Vietnam have relatively higher overtime male unemployment rate while the other Asian countries have higher female unemployment rate. The dispersion of unemployment rates in different countries are different as well, Indonesia and Korea has exceptionally high fluctuation in female and male unemployment. Lastly I have not obeserved the correlation relation between GDP per capita, thus the cause of unemployment rate can not be clarified in this project."
   ]
  }
 ],
 "metadata": {
  "kernelspec": {
   "display_name": "Python 3",
   "language": "python",
   "name": "python3"
  },
  "language_info": {
   "codemirror_mode": {
    "name": "ipython",
    "version": 3
   },
   "file_extension": ".py",
   "mimetype": "text/x-python",
   "name": "python",
   "nbconvert_exporter": "python",
   "pygments_lexer": "ipython3",
   "version": "3.7.4"
  },
  "toc-autonumbering": true
 },
 "nbformat": 4,
 "nbformat_minor": 4
}
